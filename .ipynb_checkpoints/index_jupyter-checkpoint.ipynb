{
 "cells": [
  {
   "cell_type": "code",
   "execution_count": 8,
   "metadata": {},
   "outputs": [
    {
     "name": "stdout",
     "output_type": "stream",
     "text": [
      "pygame 1.9.4\n",
      "Hello from the pygame community. https://www.pygame.org/contribute.html\n"
     ]
    }
   ],
   "source": [
    "import math\n",
    "import random\n",
    "import pygame\n",
    "import tkinter as tk\n",
    "from tkinter import messagebox"
   ]
  },
  {
   "cell_type": "code",
   "execution_count": 10,
   "metadata": {},
   "outputs": [
    {
     "ename": "SyntaxError",
     "evalue": "unexpected character after line continuation character (<ipython-input-10-fb0671513823>, line 22)",
     "output_type": "error",
     "traceback": [
      "\u001b[0;36m  File \u001b[0;32m\"<ipython-input-10-fb0671513823>\"\u001b[0;36m, line \u001b[0;32m22\u001b[0m\n\u001b[0;31m    print(\\'Score: \\', len(s.body))\u001b[0m\n\u001b[0m                                   ^\u001b[0m\n\u001b[0;31mSyntaxError\u001b[0m\u001b[0;31m:\u001b[0m unexpected character after line continuation character\n"
     ]
    }
   ],
   "source": [
    "def main():\n",
    "    global width, rows, s, snack\n",
    "    width = 500\n",
    "    rows = 20\n",
    "    win = pygame.display.set_mode((width, width))\n",
    "    s = snake((255,0,0), (10,10))\n",
    "    snack = cube(randomSnack(rows, s), color=(0,255,0))\n",
    "    flag = True\n",
    " \n",
    "    clock = pygame.time.Clock()\n",
    "   \n",
    "    while flag:\n",
    "        pygame.time.delay(50)\n",
    "        clock.tick(10)\n",
    "        s.move()\n",
    "        if s.body[0].pos == snack.pos:\n",
    "            s.addCube()\n",
    "            snack = cube(randomSnack(rows, s), color=(0,255,0))\n",
    " \n",
    "        for x in range(len(s.body)):\n",
    "            if s.body[x].pos in list(map(lambda z:z.pos,s.body[x+1:])):\n",
    "                print(\\'Score: \\', len(s.body))\n",
    "                message_box(\\'You Lost!\\', \\'Play again...\\')\n",
    "                s.reset((10,10))\n",
    "                break\n",
    " \n",
    "           \n",
    "        redrawWindow(win)\n",
    " \n",
    "       \n",
    "    pass"
   ]
  },
  {
   "cell_type": "code",
   "execution_count": null,
   "metadata": {},
   "outputs": [],
   "source": []
  }
 ],
 "metadata": {
  "kernelspec": {
   "display_name": "Python 3",
   "language": "python",
   "name": "python3"
  },
  "language_info": {
   "codemirror_mode": {
    "name": "ipython",
    "version": 3
   },
   "file_extension": ".py",
   "mimetype": "text/x-python",
   "name": "python",
   "nbconvert_exporter": "python",
   "pygments_lexer": "ipython3",
   "version": "3.6.6"
  }
 },
 "nbformat": 4,
 "nbformat_minor": 2
}
