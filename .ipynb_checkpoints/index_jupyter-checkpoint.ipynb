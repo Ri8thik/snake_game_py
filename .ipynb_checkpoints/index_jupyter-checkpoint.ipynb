{
 "cells": [
  {
   "cell_type": "code",
   "execution_count": 8,
   "metadata": {},
   "outputs": [
    {
     "name": "stdout",
     "output_type": "stream",
     "text": [
      "pygame 1.9.4\n",
      "Hello from the pygame community. https://www.pygame.org/contribute.html\n"
     ]
    }
   ],
   "source": [
    "import math\n",
    "import random\n",
    "import pygame\n",
    "import tkinter as tk\n",
    "from tkinter import messagebox"
   ]
  },
  {
   "cell_type": "code",
   "execution_count": 16,
   "metadata": {},
   "outputs": [
    {
     "ename": "NameError",
     "evalue": "name 'snake' is not defined",
     "output_type": "error",
     "traceback": [
      "\u001b[0;31m---------------------------------------------------------------------------\u001b[0m",
      "\u001b[0;31mNameError\u001b[0m                                 Traceback (most recent call last)",
      "\u001b[0;32m<ipython-input-16-656572cd0b4c>\u001b[0m in \u001b[0;36m<module>\u001b[0;34m()\u001b[0m\n\u001b[1;32m     42\u001b[0m \u001b[0;34m\u001b[0m\u001b[0m\n\u001b[1;32m     43\u001b[0m \u001b[0;34m\u001b[0m\u001b[0m\n\u001b[0;32m---> 44\u001b[0;31m \u001b[0mmain\u001b[0m\u001b[0;34m(\u001b[0m\u001b[0;34m)\u001b[0m\u001b[0;34m\u001b[0m\u001b[0m\n\u001b[0m",
      "\u001b[0;32m<ipython-input-16-656572cd0b4c>\u001b[0m in \u001b[0;36mmain\u001b[0;34m()\u001b[0m\n\u001b[1;32m     14\u001b[0m     \u001b[0mrows\u001b[0m \u001b[0;34m=\u001b[0m \u001b[0;36m20\u001b[0m\u001b[0;34m\u001b[0m\u001b[0m\n\u001b[1;32m     15\u001b[0m     \u001b[0mwin\u001b[0m \u001b[0;34m=\u001b[0m \u001b[0mpygame\u001b[0m\u001b[0;34m.\u001b[0m\u001b[0mdisplay\u001b[0m\u001b[0;34m.\u001b[0m\u001b[0mset_mode\u001b[0m\u001b[0;34m(\u001b[0m\u001b[0;34m(\u001b[0m\u001b[0mwidth\u001b[0m\u001b[0;34m,\u001b[0m \u001b[0mwidth\u001b[0m\u001b[0;34m)\u001b[0m\u001b[0;34m)\u001b[0m\u001b[0;34m\u001b[0m\u001b[0m\n\u001b[0;32m---> 16\u001b[0;31m     \u001b[0ms\u001b[0m \u001b[0;34m=\u001b[0m \u001b[0msnake\u001b[0m\u001b[0;34m(\u001b[0m\u001b[0;34m(\u001b[0m\u001b[0;36m255\u001b[0m\u001b[0;34m,\u001b[0m\u001b[0;36m0\u001b[0m\u001b[0;34m,\u001b[0m\u001b[0;36m0\u001b[0m\u001b[0;34m)\u001b[0m\u001b[0;34m,\u001b[0m \u001b[0;34m(\u001b[0m\u001b[0;36m10\u001b[0m\u001b[0;34m,\u001b[0m\u001b[0;36m10\u001b[0m\u001b[0;34m)\u001b[0m\u001b[0;34m)\u001b[0m\u001b[0;34m\u001b[0m\u001b[0m\n\u001b[0m\u001b[1;32m     17\u001b[0m     \u001b[0msnack\u001b[0m \u001b[0;34m=\u001b[0m \u001b[0mcube\u001b[0m\u001b[0;34m(\u001b[0m\u001b[0mrandomSnack\u001b[0m\u001b[0;34m(\u001b[0m\u001b[0mrows\u001b[0m\u001b[0;34m,\u001b[0m \u001b[0ms\u001b[0m\u001b[0;34m)\u001b[0m\u001b[0;34m,\u001b[0m \u001b[0mcolor\u001b[0m\u001b[0;34m=\u001b[0m\u001b[0;34m(\u001b[0m\u001b[0;36m0\u001b[0m\u001b[0;34m,\u001b[0m\u001b[0;36m255\u001b[0m\u001b[0;34m,\u001b[0m\u001b[0;36m0\u001b[0m\u001b[0;34m)\u001b[0m\u001b[0;34m)\u001b[0m\u001b[0;34m\u001b[0m\u001b[0m\n\u001b[1;32m     18\u001b[0m     \u001b[0mflag\u001b[0m \u001b[0;34m=\u001b[0m \u001b[0;32mTrue\u001b[0m\u001b[0;34m\u001b[0m\u001b[0m\n",
      "\u001b[0;31mNameError\u001b[0m: name 'snake' is not defined"
     ]
    }
   ],
   "source": [
    "class cube(object):\n",
    "    rows = 20\n",
    "    w = 500\n",
    "    def __init__(self,start,dirnx=1,dirny=0,color=(255,0,0)):\n",
    "        self.pos = start\n",
    "        self.dirnx = 1\n",
    "        self.dirny = 0\n",
    "        self.color = color\n",
    " \n",
    "       \n",
    "    def move(self, dirnx, dirny):\n",
    "        self.dirnx = dirnx\n",
    "        self.dirny = dirny\n",
    "        self.pos = (self.pos[0] + self.dirnx, self.pos[1] + self.dirny)\n",
    " \n",
    "    def draw(self, surface, eyes=False):\n",
    "        dis = self.w // self.rows\n",
    "        i = self.pos[0]\n",
    "        j = self.pos[1]\n",
    " \n",
    "        pygame.draw.rect(surface, self.color, (i*dis+1,j*dis+1, dis-2, dis-2))\n",
    "        if eyes:\n",
    "            centre = dis//2\n",
    "            radius = 3\n",
    "            circleMiddle = (i*dis+centre-radius,j*dis+8)\n",
    "            circleMiddle2 = (i*dis + dis -radius*2, j*dis+8)\n",
    "            pygame.draw.circle(surface, (0,0,0), circleMiddle, radius)\n",
    "            pygame.draw.circle(surface, (0,0,0), circleMiddle2, radius)\n",
    "       \n",
    "    \n",
    "def message_box(subject, content):\n",
    "    root = tk.Tk()\n",
    "    root.attributes(\"-topmost\", True)\n",
    "    root.withdraw()\n",
    "    messagebox.showinfo(subject, content)\n",
    "    try:\n",
    "        root.destroy()\n",
    "    except:\n",
    "        pass\n",
    "    \n",
    "def main():\n",
    "    global width, rows, s, snack\n",
    "    width = 500\n",
    "    rows = 20\n",
    "    win = pygame.display.set_mode((width, width))\n",
    "    s = snake((255,0,0), (10,10))\n",
    "    snack = cube(randomSnack(rows, s), color=(0,255,0))\n",
    "    flag = True\n",
    " \n",
    "    clock = pygame.time.Clock()\n",
    "   \n",
    "    while flag:\n",
    "        pygame.time.delay(50)\n",
    "        clock.tick(10)\n",
    "        s.move()\n",
    "        if s.body[0].pos == snack.pos:\n",
    "            s.addCube()\n",
    "            snack = cube(randomSnack(rows, s), color=(0,255,0))\n",
    " \n",
    "        for x in range(len(s.body)):\n",
    "            if s.body[x].pos in list(map(lambda z:z.pos,s.body[x+1:])):\n",
    "                print(\"score\")\n",
    "                message_box(\"Play again...\")\n",
    "                s.reset((10,10))\n",
    "                break\n",
    " \n",
    "           \n",
    "        redrawWindow(win)\n",
    " \n",
    "       \n",
    "    pass\n",
    "\n",
    "                            \n",
    "main()"
   ]
  },
  {
   "cell_type": "code",
   "execution_count": null,
   "metadata": {},
   "outputs": [],
   "source": []
  }
 ],
 "metadata": {
  "kernelspec": {
   "display_name": "Python 3",
   "language": "python",
   "name": "python3"
  },
  "language_info": {
   "codemirror_mode": {
    "name": "ipython",
    "version": 3
   },
   "file_extension": ".py",
   "mimetype": "text/x-python",
   "name": "python",
   "nbconvert_exporter": "python",
   "pygments_lexer": "ipython3",
   "version": "3.6.6"
  }
 },
 "nbformat": 4,
 "nbformat_minor": 2
}
